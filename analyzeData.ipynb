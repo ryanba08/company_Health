{
 "cells": [
  {
   "cell_type": "code",
   "execution_count": null,
   "metadata": {},
   "outputs": [],
   "source": [
    "hist[['Volume','marketCap', 'shares']] = hist[['Volume','marketCap', 'shares']].map(lambda x: '{:02,.0f}'.format(x))"
   ]
  }
 ],
 "metadata": {
  "language_info": {
   "name": "python"
  }
 },
 "nbformat": 4,
 "nbformat_minor": 2
}
